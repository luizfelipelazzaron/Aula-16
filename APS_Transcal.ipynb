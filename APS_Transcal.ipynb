{
  "nbformat": 4,
  "nbformat_minor": 0,
  "metadata": {
    "colab": {
      "provenance": [],
      "include_colab_link": true
    },
    "kernelspec": {
      "name": "python3",
      "display_name": "Python 3"
    },
    "language_info": {
      "name": "python"
    }
  },
  "cells": [
    {
      "cell_type": "markdown",
      "metadata": {
        "id": "view-in-github",
        "colab_type": "text"
      },
      "source": [
        "<a href=\"https://colab.research.google.com/github/luizfelipelazzaron/Aula-16/blob/master/APS_Transcal.ipynb\" target=\"_parent\"><img src=\"https://colab.research.google.com/assets/colab-badge.svg\" alt=\"Open In Colab\"/></a>"
      ]
    },
    {
      "cell_type": "code",
      "source": [],
      "metadata": {
        "id": "VrUQteRJTC6u"
      },
      "execution_count": null,
      "outputs": []
    },
    {
      "cell_type": "markdown",
      "source": [
        "# Atividade Prática Supervisionada\n",
        "## Grupo 8\n",
        "**Alunos**\n",
        "\n",
        "\n",
        "*   HUDSON MONTEIRO\n",
        "*   DOM RUAN SUZANO FIGUEIRA DA SILVA\n",
        "*   MARCOS VINÍCIUS DA SILVA\n",
        "*   LUIZ FELIPE LAZZARON"
      ],
      "metadata": {
        "id": "RYYQ-z6GS8Qz"
      }
    },
    {
      "cell_type": "markdown",
      "source": [
        "Imports"
      ],
      "metadata": {
        "id": "Zo6dz0zQRlEi"
      }
    },
    {
      "cell_type": "code",
      "execution_count": 2,
      "metadata": {
        "id": "A1Rk0feQPM5Z"
      },
      "outputs": [],
      "source": [
        "from math import pi\n",
        "import numpy as np\n",
        "import matplotlib.pyplot as plt"
      ]
    },
    {
      "cell_type": "code",
      "source": [
        "# k aluminio\n",
        "k_al = 240 #W/m^2\n",
        "\n",
        "# Temperatura do ambiente\n",
        "T_amb = 25 #ºC\n",
        "\n",
        "## ALETA TIPO VIGA\n",
        "# Largura da barra\n",
        "w = 240 #mm\n",
        "#Espessura da barra\n",
        "t = 20 #mm\n",
        "\n",
        "## ALETA TIPO PINO\n",
        "#Diâmetro do pino\n",
        "D = 240 #mm\n",
        "\n",
        "##  DADOS ESPECÍFICOS PARA O GRUPO 8\n",
        "\n",
        "#Comprimento\n",
        "L = 175 #mm\n",
        "\n",
        "## TIPO DE SEÇÃO: CIRCULAR\n",
        "\n",
        "P = math.pi * D \n",
        "\n",
        "# Área\n",
        "A = math.pi*(D**2) / 4 ## mm^2"
      ],
      "metadata": {
        "id": "DICamEW2NfE_"
      },
      "execution_count": null,
      "outputs": []
    },
    {
      "cell_type": "markdown",
      "source": [
        "<h1>Dados do problema </h1>"
      ],
      "metadata": {
        "id": "zHfteK_tReyV"
      }
    },
    {
      "cell_type": "markdown",
      "source": [
        "# Parte 1\n",
        "**Ajuste o modelo/condições de contorno e desenvolva um programa em Python que receba as informações necessárias para determinar cada um dos itens a seguir**"
      ],
      "metadata": {
        "id": "kIeUevtyRkGj"
      }
    },
    {
      "cell_type": "code",
      "source": [
        "def temp_final(Tb, Tinf, P, A, h, K, L):\n",
        "    \"\"\"\n",
        "  Calcula a temperatura final em um material em função da temperatura inicial, do \n",
        "  fluxo de calor, da área de seção transversal, do coeficiente de transferência de \n",
        "  calor, da condutividade térmica, e do comprimento do material.\n",
        "\n",
        "  Args:\n",
        "      Tb (float): temperatura inicial do material  (Kelvin)\n",
        "      Tinf (float): temperatura ambiente (Kelvin)\n",
        "      P (float): perímetro da seção transversal do material (m)\n",
        "      A (float): área de seção transversal do material (m²)\n",
        "      h (float): coeficiente de transferência de calor (W/m².K)\n",
        "      K (float): condutividade térmica do material (W/m.K)\n",
        "      L (float): comprimento do material (m)\n",
        "\n",
        "  Returns:\n",
        "      tuple: um tuple contendo o fluxo de calor (qA) e a temperatura final (Tf) em cada ponto\n",
        "\n",
        "  \"\"\"\n",
        "\n",
        "    \n",
        "    Tf = []\n",
        "\n",
        "    # Diferença de temperatura entre a base e a temperatura infinita (Kelvin)\n",
        "    teta_b = Tb - Tinf\n",
        "\n",
        "    #Parâmetros\n",
        "    M = teta_b*(h * P * K * A)**0.5\n",
        "    m = ((h * P) / (K * A))**0.5\n",
        "\n",
        "    # Fluxo de calor por unidade de área (W/m²)\n",
        "    qA = M * (((np.sinh(m*L)) + (h / (m * K)) * np.cosh(m*L)) / (np.cosh(m*L) + (h / (m * K)) * np.sinh(m*L)))\n",
        "    \n",
        "    # Posições ao longo do comprimento (m)\n",
        "    tamanhos = np.linspace(0, L, 100)\n",
        "    for x in tamanhos:\n",
        "\n",
        "      #Diferença de temperatura\n",
        "      teta = teta_b * ((np.cosh(m*(L-x)) + (h / (m * K)) * np.sinh(m*(L-x))) / (np.cosh(m*L) + (h / (m * K)) * np.sinh(m*L)))\n",
        "      \n",
        "      # Temperaturas em cada posição ao longo do comprimento (Kelvin)\n",
        "      Tf.append(Tinf + teta)\n",
        "    return qA, Tf, tamanhos,m"
      ],
      "metadata": {
        "id": "XCA0XFppQi9z"
      },
      "execution_count": 21,
      "outputs": []
    },
    {
      "cell_type": "code",
      "source": [
        "h = 20\n",
        "Ab = pi*(0.12**2)\n",
        "P = 2*pi*0.12\n",
        "Kal = 240\n",
        "L = 0.175\n",
        "Al = P*L\n",
        "teta_b = 373 - 298"
      ],
      "metadata": {
        "id": "AXxOh2yrdApr"
      },
      "execution_count": 22,
      "outputs": []
    },
    {
      "cell_type": "code",
      "source": [
        "qA, Temps, tamanhos,m = temp_final(373, 298, P, Ab, h, Kal, L)"
      ],
      "metadata": {
        "id": "ar_6ESliQnhb"
      },
      "execution_count": 23,
      "outputs": []
    },
    {
      "cell_type": "markdown",
      "source": [
        "## 1. [1,5 pontos] Qual a temperatura na extremidade da aleta? Apresente um gráfico da distribuição de\n",
        "temperatura (T_analitica) ao longo do comprimento da aleta. Use legenda, identifique os eixos e as\n",
        "unidades usadas."
      ],
      "metadata": {
        "id": "B_hzgRdC9ejy"
      }
    },
    {
      "cell_type": "code",
      "source": [
        "plt.plot(tamanhos, Temps)\n",
        "plt.xlabel(\"x (m)\")\n",
        "plt.ylabel(\"Temperatura (K)\")\n",
        "plt.title(\"Temperatura ao longo da aleta\")\n",
        "plt.show()"
      ],
      "metadata": {
        "id": "JF1zVvkaQxg5",
        "colab": {
          "base_uri": "https://localhost:8080/",
          "height": 295
        },
        "outputId": "7cf34180-e91c-419d-aa65-acfca001295b"
      },
      "execution_count": 17,
      "outputs": [
        {
          "output_type": "display_data",
          "data": {
            "text/plain": [
              "<Figure size 432x288 with 1 Axes>"
            ],
            "image/png": "[encoded data removed]"
          },
          "metadata": {
            "needs_background": "light"
          }
        }
      ]
    },
    {
      "cell_type": "code",
      "source": [
        "print(\"Temperatura na extremidade da aleta: {:.2f} K\".format(Temps[99]))"
      ],
      "metadata": {
        "colab": {
          "base_uri": "https://localhost:8080/"
        },
        "id": "kvF2x0OYaYSh",
        "outputId": "012cfc5f-a3a2-497f-bdb2-41c240d22303"
      },
      "execution_count": 7,
      "outputs": [
        {
          "output_type": "stream",
          "name": "stdout",
          "text": [
            "Temperatura na extremidade da aleta: 370.39 K\n"
          ]
        }
      ]
    },
    {
      "cell_type": "markdown",
      "source": [
        "## 2 [1,0 pontos] Determine a taxa de transferência de calor."
      ],
      "metadata": {
        "id": "aZj3D_p08pdT"
      }
    },
    {
      "cell_type": "code",
      "source": [
        "print(\"Taxa de transferência de calor: {:.2f} W\".format(qA))"
      ],
      "metadata": {
        "colab": {
          "base_uri": "https://localhost:8080/"
        },
        "id": "ucyD0XTmk-OW",
        "outputId": "c7e2b933-e603-44ec-9b20-14bf5387df56"
      },
      "execution_count": 14,
      "outputs": [
        {
          "output_type": "stream",
          "name": "stdout",
          "text": [
            "Taxa de transferência de calor: 259.29 W\n"
          ]
        }
      ]
    },
    {
      "cell_type": "markdown",
      "source": [
        "## 3. [0,5 pontos] Determine a eficiência da aleta"
      ],
      "metadata": {
        "id": "UlwoLLDh9A1m"
      }
    },
    {
      "cell_type": "code",
      "source": [
        "eficiencia = qA/(h*(Ab+Al)*teta_b)\n",
        "print(\"Eficiencia: {:.2f}\".format(eficiencia))"
      ],
      "metadata": {
        "id": "sGFcnYWfdoTw",
        "colab": {
          "base_uri": "https://localhost:8080/"
        },
        "outputId": "cb85dd17-7ca5-462e-be34-9eab020a0d5c"
      },
      "execution_count": 9,
      "outputs": [
        {
          "output_type": "stream",
          "name": "stdout",
          "text": [
            "Eficiencia: 0.98\n"
          ]
        }
      ]
    },
    {
      "cell_type": "markdown",
      "source": [
        "## 4. [0,5 pontos] Determine a efetividade da aleta."
      ],
      "metadata": {
        "id": "ViL-goS89NZM"
      }
    },
    {
      "cell_type": "code",
      "source": [
        "efetividade = qA/(h*Ab*teta_b)\n",
        "print(\"Efetividade: {:.2f}\".format(efetividade))"
      ],
      "metadata": {
        "id": "B-fWNEBxcwnc",
        "colab": {
          "base_uri": "https://localhost:8080/"
        },
        "outputId": "02d884f8-e169-4683-a118-29180c716025"
      },
      "execution_count": 10,
      "outputs": [
        {
          "output_type": "stream",
          "name": "stdout",
          "text": [
            "Efetividade: 3.82\n"
          ]
        }
      ]
    },
    {
      "cell_type": "markdown",
      "source": [
        "## 5. [1,0 pontos] Assumindo a hipótese de aleta infinita, determine a taxa de transferência de calor. "
      ],
      "metadata": {
        "id": "LQIQMG3d9sUy"
      }
    },
    {
      "cell_type": "code",
      "source": [
        "qA_inf = teta_b*((h*P*Kal*Ab)**0.5)\n",
        "print(\"Taxa de transferência de calor considerando a aleta infinita: {:.2f} W\".format(qA_inf))"
      ],
      "metadata": {
        "id": "Xs0zkp1edodY",
        "colab": {
          "base_uri": "https://localhost:8080/"
        },
        "outputId": "dbbeee07-14f5-4724-9c0c-2595319c656d"
      },
      "execution_count": 18,
      "outputs": [
        {
          "output_type": "stream",
          "name": "stdout",
          "text": [
            "Taxa de transferência de calor considerando a aleta infinita: 959.66 W\n"
          ]
        }
      ]
    },
    {
      "cell_type": "markdown",
      "source": [
        "## 6. [0,5 pontos] Compare o resultado obtido no item 2 com o resultado do item 5, assumindo que foram obtidos com modelos diferentes.\n",
        "\n",
        "**Podemos concluir que, com a hipótese da aleta infinita, tem-se uma taxa de transferência de calor maior, o que significa que em comprimentos muito pequenos a eficiēncia, bem como a efetividade, são maiores do que no caso 2.**"
      ],
      "metadata": {
        "id": "61XOMtmF-C43"
      }
    },
    {
      "cell_type": "markdown",
      "source": [
        "## 7. [1,0 pontos] Apresente o desenvolvimento matemático para determinar qual deveria ser o comprimento da aleta para que a hipótese de aleta infinita forneça uma medida precisa para a taxa de transferência de calor. \n",
        "\n",
        "**Para determinar o comprimento da aleta para a hipótese da aleta infinita, podemos verificar a partir de comprimento de L que a transferência de calor \"real\" (por convecção) se iguá-la à transferência de calor na aleta infinita:**"
      ],
      "metadata": {
        "id": "UYAauNBy-CUA"
      }
    },
    {
      "cell_type": "markdown",
      "source": [
        "\n",
        "Pela tabela:\n",
        "\n",
        "$$\\dot{q}_{convecção}=M \\frac{senh{(mL)}+\\frac{h}{km}\\cosh{(mL)}}{cosh{(mL)}+\\frac{h}{km}senh{(mL)}}$$\n",
        "\n",
        "$$\\dot{q}_{aleta infinita}=M$$\n",
        "\n",
        "Igualando\n",
        "\n",
        "$$\\dot{q}_{convecção} = \\dot{q}_{aleta infinita}$$\n",
        "\n",
        "Temos:\n",
        "\n",
        "$$M \\frac{senh{(mL)}+\\frac{h}{km}\\cosh{(mL)}}{cosh{(mL)}+\\frac{h}{km}senh{(mL)}}=M$$\n",
        "\n",
        "Simplifcando, considerando M diferente de 0:\n",
        "\n",
        "$${senh{(mL)}+\\frac{h}{km}\\cosh{(mL)}}={cosh{(mL)}+\\frac{h}{km}senh{(mL)}}$$\n",
        "\n",
        "$${senh{(mL)}(1-\\frac{h}{km})}={cosh{(mL)}(1-\\frac{h}{km})}$$\n",
        "\n",
        "Se \n",
        "\n",
        "$$(1-\\frac{h}{km})\\neq 0$$\n",
        "Então:\n",
        "$${senh{(mL)}}={cosh{(mL)}}$$\n",
        "Se \n",
        "$${cosh{(mL)}}\\neq 0$$\n",
        "Chegamos em:\n",
        "$${tanh{(mL)}}=1$$\n",
        "De modo que:\n",
        "$$mL={arctanh{(1)}}$$\n",
        "Concluindo que\n",
        "$$L=\\frac{{arctanh{(1)}}}{m}$$\n",
        "\n",
        "$$L=\\frac{0.7853981633974483}{1.1785113019775793} m$$\n",
        "\n",
        "Logo:\n",
        "\n",
        "$$L=0.67 m$$"
      ],
      "metadata": {
        "id": "tOgOT1AWTsgO"
      }
    },
    {
      "cell_type": "code",
      "source": [
        "np.arctan(1) / m"
      ],
      "metadata": {
        "colab": {
          "base_uri": "https://localhost:8080/"
        },
        "id": "q3LNhdorYAI_",
        "outputId": "b99744ab-2d98-40e6-c815-9628f0fb16d6"
      },
      "execution_count": 26,
      "outputs": [
        {
          "output_type": "execute_result",
          "data": {
            "text/plain": [
              "0.6664324407237548"
            ]
          },
          "metadata": {},
          "execution_count": 26
        }
      ]
    },
    {
      "cell_type": "markdown",
      "source": [
        "**O que podemos concluir que para um L menor que 0.67 metros, a consideração de aleta infinita é válida**"
      ],
      "metadata": {
        "id": "lJ89NAXGY4IS"
      }
    },
    {
      "cell_type": "markdown",
      "source": [
        "# Parte 2\n",
        "**Um dispositivo experimental usado para medir a condutividade térmica de materiais sólidos, envolve o uso de aletas equivalentes em todos os aspectos, exceto pelo tipo de material em que são fabricadas. Nesse dispositivo, uma das aletas é fabricada com um material-padrão com condutividade térmica conhecida κA enquanto a outra é fabricada com um material cuja condutividade térmica κB se deseja determinar. Para a execução das medidas, uma das extremidades dos dois bastões é fixada a uma mesma fonte de calor com uma temperatura fixa Tb. Em seguida, os bastões são expostos a um fluido com temperatura x de modo que cada um deles esteja instrumentado com termopares para medir a temperatura a uma distância fixa x1 da base (fonte de calor). De acordo com o exposto considere os itens abaixo:**"
      ],
      "metadata": {
        "id": "nOxLYWRF-gOi"
      }
    },
    {
      "cell_type": "markdown",
      "source": [
        "## 1. [2,0 pontos] Considere válida a condição de aleta infinita e desenvolva um modelo matemático que permita ao usuário do dispositivo determinar a condutividade do material desconhecido. "
      ],
      "metadata": {
        "id": "xlOQOu5g_o-g"
      }
    },
    {
      "cell_type": "markdown",
      "source": [
        "Modelo matemático para uma aleta infinita é:\n",
        "$$\\theta_{x}=\\theta_{b}*e^{-mx}$$\n",
        "Onde \n",
        "$$m=\\sqrt{\\frac{hP}{kA_{tr}}}$$\n",
        "Substituindo os valores de theta e m temos:\n",
        "$$T(x)= T_{inf}+(T_b-T_{inf})\\sqrt{\\frac{hP}{kA_{tr}}}$$"
      ],
      "metadata": {
        "id": "asZxgGB5_4jy"
      }
    },
    {
      "cell_type": "markdown",
      "source": [
        "## [2,0 ponto] Se o material-padrão for o alumínio, com ka = 240 W/(m²K) e as medições revelarem valores de Ta = 75℃ e Tb= 60℃ em x1, paraTb = 100℃ e Tinfty = 25℃, qual é a condutividade térmica κb do material em teste?"
      ],
      "metadata": {
        "id": "b8WZZYXCeuqX"
      }
    },
    {
      "cell_type": "markdown",
      "source": [
        "Sendo:\n",
        "$$k_A = 240 W/(m²K)$$\n",
        "$$T_A = 75 °C$$\n",
        "$$T_B = 60 °C$$\n",
        "$$T_{infty} = 25°C$$\n",
        "$$T_b = 100°C$$\n",
        "\n",
        "Temos, isolando o valor de x na equação anterior, que :\n",
        "\n",
        "$$x  = -\\sqrt{\\frac{kA_{tr}}{hP}}*ln(\\frac{T(x)- T_{inf}}{Tb- T_{inf}})$$\n",
        "Com o valor de x1 definido pelos valores de T_A, ka, é possível substituir os valores para encontrar o kb.\n",
        "Depois de uma manipulação algébrica temos que:"
      ],
      "metadata": {
        "id": "b9G4T19UfNZV"
      }
    },
    {
      "cell_type": "code",
      "source": [
        "ka = 240 # W/(m²K)\n",
        "T_A = 75 # °C\n",
        "T_B = 60 # °C\n",
        "Tinf = 25 # °C\n",
        "T_b = 100 # °C\n",
        "kb = ka*(np.log((T_A - Tinf)/(T_b - Tinf))/ np.log((T_B - Tinf)/(T_b - Tinf)))**2"
      ],
      "metadata": {
        "id": "JPDU-J27gQA8"
      },
      "execution_count": 28,
      "outputs": []
    },
    {
      "cell_type": "code",
      "source": [
        "kb"
      ],
      "metadata": {
        "colab": {
          "base_uri": "https://localhost:8080/"
        },
        "id": "fTHIpgikgQ3p",
        "outputId": "9003f7d9-5aba-4455-c4ba-aea71c2907ca"
      },
      "execution_count": 30,
      "outputs": [
        {
          "output_type": "execute_result",
          "data": {
            "text/plain": [
              "67.92797153154885"
            ]
          },
          "metadata": {},
          "execution_count": 30
        }
      ]
    },
    {
      "cell_type": "code",
      "source": [],
      "metadata": {
        "id": "OEZf3pxXgUhO"
      },
      "execution_count": null,
      "outputs": []
    },
    {
      "cell_type": "markdown",
      "source": [
        "Logo, o valor de x=67.92"
      ],
      "metadata": {
        "id": "ZmDor0TigXro"
      }
    },
    {
      "cell_type": "code",
      "source": [],
      "metadata": {
        "id": "TS4MuNhMgaq3"
      },
      "execution_count": null,
      "outputs": []
    }
  ]
}